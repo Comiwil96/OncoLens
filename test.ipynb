{
 "cells": [
  {
   "cell_type": "code",
   "execution_count": 3,
   "id": "2f966f4d",
   "metadata": {},
   "outputs": [
    {
     "name": "stdout",
     "output_type": "stream",
     "text": [
      "Selected features: ['radius error', 'worst radius', 'worst texture', 'worst compactness', 'worst concavity']\n"
     ]
    }
   ],
   "source": [
    "import pandas as pd\n",
    "from sklearn.linear_model import LogisticRegression\n",
    "from sklearn.feature_selection import RFE, VarianceThreshold\n",
    "from sklearn.pipeline import Pipeline\n",
    "from sklearn.preprocessing import StandardScaler\n",
    "\n",
    "data = pd.read_csv('data/breast_cancer.csv')\n",
    "X = data.drop(columns=['target'], axis=1)\n",
    "y = data['target']\n",
    "\n",
    "# Final model\n",
    "logreg = LogisticRegression(max_iter=1000, solver='liblinear', penalty='l1', C=0.1)\n",
    "\n",
    "# Preprocessing\n",
    "scaler = StandardScaler()\n",
    "rfe = RFE(estimator=logreg, n_features_to_select=5)\n",
    "var_thresh = VarianceThreshold(threshold=0.01)\n",
    "\n",
    "# Build pipeline with only transformers and estimator at the end\n",
    "pipeline = Pipeline([\n",
    "    ('variance', var_thresh),\n",
    "    ('scaler', scaler),\n",
    "    ('classifier', logreg)\n",
    "])\n",
    "\n",
    "# Add RFE to the pipeline after scaling and before classifier\n",
    "pipeline.steps.insert(2, ('rfe', rfe))\n",
    "\n",
    "# Fit the pipeline\n",
    "pipeline.fit(X, y)\n",
    "\n",
    "# Get the mask of selected features from RFE\n",
    "selected_mask = pipeline.named_steps['rfe'].support_\n",
    "\n",
    "# Get the feature names after variance threshold\n",
    "features_after_var = X.columns[var_thresh.get_support()]\n",
    "\n",
    "# Get the final selected feature names\n",
    "selected_features = features_after_var[selected_mask]\n",
    "print(\"Selected features:\", list(selected_features))\n",
    "\n"
   ]
  },
  {
   "cell_type": "code",
   "execution_count": null,
   "id": "327250f1",
   "metadata": {},
   "outputs": [],
   "source": []
  }
 ],
 "metadata": {
  "kernelspec": {
   "display_name": ".venv",
   "language": "python",
   "name": "python3"
  },
  "language_info": {
   "codemirror_mode": {
    "name": "ipython",
    "version": 3
   },
   "file_extension": ".py",
   "mimetype": "text/x-python",
   "name": "python",
   "nbconvert_exporter": "python",
   "pygments_lexer": "ipython3",
   "version": "3.9.6"
  }
 },
 "nbformat": 4,
 "nbformat_minor": 5
}
